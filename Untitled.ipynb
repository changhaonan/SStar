{
 "cells": [
  {
   "cell_type": "code",
   "execution_count": 1,
   "id": "093cb66f",
   "metadata": {},
   "outputs": [],
   "source": [
    "# !pip install mmcv-full -f https://download.openmmlab.com/mmcv/dist/cu113/torch1.11.0/index.html\n",
    "# !rm -rf mmsegmentation\n",
    "# !git clone https://github.com/open-mmlab/mmsegmentation.git \n",
    "# %cd mmsegmentation\n",
    "# !pip install -e ."
   ]
  },
  {
   "cell_type": "code",
   "execution_count": 2,
   "id": "3a980bce",
   "metadata": {},
   "outputs": [
    {
     "name": "stdout",
     "output_type": "stream",
     "text": [
      "1.11.0 True\n",
      "0.22.1\n"
     ]
    }
   ],
   "source": [
    "# Check Pytorch installation\n",
    "import torch, torchvision\n",
    "print(torch.__version__, torch.cuda.is_available())\n",
    "\n",
    "# Check MMSegmentation installation\n",
    "import mmseg\n",
    "print(mmseg.__version__)\n",
    "\n",
    "import os\n",
    "import matplotlib.patches as mpatches\n",
    "import matplotlib.pyplot as plt\n",
    "import numpy as np\n",
    "from PIL import Image\n",
    "from tqdm import tqdm\n",
    "opj = lambda x, y: os.path.join(x, y)"
   ]
  },
  {
   "cell_type": "code",
   "execution_count": 3,
   "id": "0c859498",
   "metadata": {},
   "outputs": [],
   "source": [
    "DATA_FOLDER = 'ycb'\n",
    "PROCESSED_DATA_FOLDER = 'data'\n",
    "PIMAGE_FOLDER = opj(PROCESSED_DATA_FOLDER, 'images')\n",
    "PMASK_FOLDER = opj(PROCESSED_DATA_FOLDER, 'masks')\n",
    "class_folders = sorted(os.listdir(DATA_FOLDER))[:3]\n",
    "classes = [' '.join(i.split('_')[1:]) for i in class_folders]\n",
    "classes = classes + ['stuff']\n",
    "palette = [[0, 0, 255], [0, 255, 0], [255, 0, 0], [128, 128, 128]]"
   ]
  },
  {
   "cell_type": "code",
   "execution_count": 11,
   "id": "092b1fce",
   "metadata": {
    "scrolled": true
   },
   "outputs": [
    {
     "name": "stderr",
     "output_type": "stream",
     "text": [
      "0it [00:00, ?it/s]\n",
      "600it [00:00, 529806.82it/s]\n",
      "\n",
      "600it [00:00, 414661.79it/s]\n",
      "\n",
      "600it [00:00, 488941.60it/s]\n",
      "3it [00:00, 291.65it/s]\n"
     ]
    }
   ],
   "source": [
    "img_list = []\n",
    "mask_list = []\n",
    "for cidx, cls in tqdm(enumerate(class_folders)):\n",
    "    cls_folder = opj(DATA_FOLDER, cls)\n",
    "    img_folder = opj(cls_folder, 'images')\n",
    "    mask_folder = opj(cls_folder, 'masks')\n",
    "    for idx, (img, lbl) in tqdm(enumerate(zip(sorted(os.listdir(img_folder), key=lambda x: x.split('.')[0]), sorted(os.listdir(mask_folder) , key=lambda x: x.split('.')[0].split('mask')[0])))):\n",
    "        img_path = opj(img_folder, img)\n",
    "        mask_path = opj(mask_folder, lbl)\n",
    "        img_list.append(img_path)\n",
    "        mask_list.append((mask_path, cidx))\n",
    "#         mask = Image.open(mask_path).convert('P')\n",
    "#         mask_c = np.where(mask == 0, cidx, mask)\n",
    "#         mask_cs = np.where(mask_c == 255, len(classes)-1, mask_c)\n",
    "#         mask_cs = Image.fromarray(mask_cs).convert('P')\n",
    "#         mask_cs.putpalette(np.array(palette, dtype=np.uint8))\n",
    "#         f_name = '_'.join(cls.split('_')[1:]) + f'_{idx}' + '.png'\n",
    "#         mask_cs.save(opj(PMASK_FOLDER, f_name))\n",
    "#         Image.open(img_path).save(opj(PIMAGE_FOLDER, f_name))"
   ]
  },
  {
   "cell_type": "code",
   "execution_count": 5,
   "id": "23add940",
   "metadata": {},
   "outputs": [
    {
     "name": "stderr",
     "output_type": "stream",
     "text": [
      "2022-03-23 13:46:16,932 - mmseg - INFO - Loaded 1800 images\n"
     ]
    }
   ],
   "source": [
    "from mmseg.datasets.custom import CustomDataset\n",
    "pipeline = [dict(type='LoadImageFromFile'), dict(type='LoadAnnotations')]\n",
    "ds = CustomDataset(pipeline=pipeline, img_file_list=img_list, seg_file_list=mask_list, label_map=dict(enumerate(classes)))"
   ]
  },
  {
   "cell_type": "code",
   "execution_count": 6,
   "id": "b4fe782a",
   "metadata": {},
   "outputs": [],
   "source": [
    "from torch.utils.data import DataLoader\n",
    "dl = DataLoader(dataset=ds, batch_size=1, shuffle=False)"
   ]
  },
  {
   "cell_type": "code",
   "execution_count": 10,
   "id": "11636636",
   "metadata": {},
   "outputs": [
    {
     "data": {
      "text/plain": [
       "{0, 1}"
      ]
     },
     "execution_count": 10,
     "metadata": {},
     "output_type": "execute_result"
    }
   ],
   "source": [
    "set(ds[601]['gt_semantic_seg'].flatten())"
   ]
  },
  {
   "cell_type": "code",
   "execution_count": null,
   "id": "f16b67fb",
   "metadata": {},
   "outputs": [],
   "source": [
    "mask_path = os.path.join(os.path.join(DATA_FOLDER, '001_chips_can/masks'), 'N1_0_mask.pbm')\n",
    "mask_path"
   ]
  },
  {
   "cell_type": "code",
   "execution_count": null,
   "id": "15c34f73",
   "metadata": {},
   "outputs": [],
   "source": [
    "classes = ('can', 'test' ,'stuff')\n",
    "\n",
    "seg_img = Image.open(mask_path).convert('P')\n",
    "seg_img.putpalette(np.array(palette, dtype=np.uint8))"
   ]
  },
  {
   "cell_type": "code",
   "execution_count": null,
   "id": "09f9299c",
   "metadata": {},
   "outputs": [],
   "source": [
    "a = np.array(Image.open(mask_path).convert('P'))\n",
    "an_array = np.where(a == 0, 0, a)\n",
    "an_array = np.where(an_array == 255, 2, an_array)\n",
    "test = Image.fromarray(an_array).convert('P')\n",
    "test.putpalette(np.array(palette, dtype=np.uint8))\n",
    "test.save('test.png')"
   ]
  },
  {
   "cell_type": "code",
   "execution_count": null,
   "id": "2c41ce19",
   "metadata": {},
   "outputs": [],
   "source": [
    "a = np.array(Image.open(mask_path).convert('P'))\n",
    "a"
   ]
  },
  {
   "cell_type": "code",
   "execution_count": null,
   "id": "ba95f4f1",
   "metadata": {},
   "outputs": [],
   "source": [
    "img = Image.open('test.png')\n",
    "plt.figure(figsize=(8, 6))\n",
    "im = plt.imshow(np.array(img.convert('RGB')))\n",
    "\n",
    "# create a patch (proxy artist) for every color \n",
    "patches = [mpatches.Patch(color=np.array(palette[i])/255., \n",
    "                          label=classes[i]) for i in range(2)]\n",
    "# put those patched as legend-handles into the legend\n",
    "plt.legend(handles=patches, bbox_to_anchor=(1.05, 1), loc=2, borderaxespad=0., \n",
    "           fontsize='large')\n",
    "\n",
    "plt.show()"
   ]
  },
  {
   "cell_type": "code",
   "execution_count": null,
   "id": "02b1b786",
   "metadata": {},
   "outputs": [],
   "source": []
  },
  {
   "cell_type": "code",
   "execution_count": null,
   "id": "bfd0f1d0",
   "metadata": {},
   "outputs": [],
   "source": [
    "from mmseg.datasets.builder import PIPELINES, DATASETS"
   ]
  },
  {
   "cell_type": "code",
   "execution_count": null,
   "id": "2518d595",
   "metadata": {},
   "outputs": [],
   "source": [
    "# @PIPELINES"
   ]
  },
  {
   "cell_type": "code",
   "execution_count": null,
   "id": "c7713e89",
   "metadata": {},
   "outputs": [],
   "source": [
    "import mmcv"
   ]
  },
  {
   "cell_type": "code",
   "execution_count": null,
   "id": "a0cd1d13",
   "metadata": {},
   "outputs": [],
   "source": []
  },
  {
   "cell_type": "code",
   "execution_count": null,
   "id": "5ecdc21a",
   "metadata": {},
   "outputs": [],
   "source": [
    "file_client = mmcv.FileClient(**dict(backend='disk'))"
   ]
  },
  {
   "cell_type": "code",
   "execution_count": null,
   "id": "6e5f8a3d",
   "metadata": {},
   "outputs": [],
   "source": [
    "img_bytes = file_client.get(f'{mask_path}')"
   ]
  },
  {
   "cell_type": "code",
   "execution_count": null,
   "id": "f443e7f4",
   "metadata": {},
   "outputs": [],
   "source": [
    "img = mmcv.imfrombytes(img_bytes, flag='unchanged',backend='pillow').squeeze().astype(np.uint8)"
   ]
  },
  {
   "cell_type": "code",
   "execution_count": null,
   "id": "3da7cd6d",
   "metadata": {},
   "outputs": [],
   "source": [
    "set(img.flatten())"
   ]
  },
  {
   "cell_type": "code",
   "execution_count": null,
   "id": "8663c8d2",
   "metadata": {},
   "outputs": [],
   "source": [
    "DATASET"
   ]
  },
  {
   "cell_type": "code",
   "execution_count": null,
   "id": "e51b9c5e",
   "metadata": {},
   "outputs": [],
   "source": []
  },
  {
   "cell_type": "code",
   "execution_count": null,
   "id": "9eeb82b8",
   "metadata": {},
   "outputs": [],
   "source": []
  },
  {
   "cell_type": "code",
   "execution_count": null,
   "id": "e7dba560",
   "metadata": {},
   "outputs": [],
   "source": []
  }
 ],
 "metadata": {
  "kernelspec": {
   "display_name": "Python 3 (ipykernel)",
   "language": "python",
   "name": "python3"
  },
  "language_info": {
   "codemirror_mode": {
    "name": "ipython",
    "version": 3
   },
   "file_extension": ".py",
   "mimetype": "text/x-python",
   "name": "python",
   "nbconvert_exporter": "python",
   "pygments_lexer": "ipython3",
   "version": "3.8.12"
  }
 },
 "nbformat": 4,
 "nbformat_minor": 5
}
